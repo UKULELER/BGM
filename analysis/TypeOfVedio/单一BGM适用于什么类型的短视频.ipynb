{
 "cells": [
  {
   "cell_type": "markdown",
   "metadata": {},
   "source": [
    "# 关于 单一BGM适用于什么类型的短视频 的分析"
   ]
  },
  {
   "cell_type": "code",
   "execution_count": 1,
   "metadata": {},
   "outputs": [],
   "source": [
    "import matplotlib.pyplot as plt\n",
    "import pandas as pd\n",
    "import numpy as np"
   ]
  },
  {
   "cell_type": "code",
   "execution_count": 2,
   "metadata": {},
   "outputs": [],
   "source": [
    "# 导入数据文件\n",
    "io = \"../../data/DataOfBGMAndVedio.xlsx\""
   ]
  },
  {
   "cell_type": "code",
   "execution_count": 5,
   "metadata": {},
   "outputs": [],
   "source": [
    "# 获取BGM数据\n",
    "BGM = pd.read_excel(io,sheet_name = 0,index_col= 'ID')"
   ]
  },
  {
   "cell_type": "code",
   "execution_count": 6,
   "metadata": {},
   "outputs": [
    {
     "data": {
      "text/html": [
       "<div>\n",
       "<style scoped>\n",
       "    .dataframe tbody tr th:only-of-type {\n",
       "        vertical-align: middle;\n",
       "    }\n",
       "\n",
       "    .dataframe tbody tr th {\n",
       "        vertical-align: top;\n",
       "    }\n",
       "\n",
       "    .dataframe thead th {\n",
       "        text-align: right;\n",
       "    }\n",
       "</style>\n",
       "<table border=\"1\" class=\"dataframe\">\n",
       "  <thead>\n",
       "    <tr style=\"text-align: right;\">\n",
       "      <th></th>\n",
       "      <th>音乐</th>\n",
       "      <th>时长</th>\n",
       "      <th>使用人数</th>\n",
       "      <th>地址</th>\n",
       "    </tr>\n",
       "    <tr>\n",
       "      <th>ID</th>\n",
       "      <th></th>\n",
       "      <th></th>\n",
       "      <th></th>\n",
       "      <th></th>\n",
       "    </tr>\n",
       "  </thead>\n",
       "  <tbody>\n",
       "    <tr>\n",
       "      <th>1</th>\n",
       "      <td>夏天的风</td>\n",
       "      <td>32s</td>\n",
       "      <td>223.3w</td>\n",
       "      <td>https://v.douyin.com/JNDAbTd/</td>\n",
       "    </tr>\n",
       "    <tr>\n",
       "      <th>2</th>\n",
       "      <td>想见你想见你想见你</td>\n",
       "      <td>37s</td>\n",
       "      <td>199.3w</td>\n",
       "      <td>https://v.douyin.com/JNfUQby/</td>\n",
       "    </tr>\n",
       "  </tbody>\n",
       "</table>\n",
       "</div>"
      ],
      "text/plain": [
       "           音乐   时长    使用人数                             地址\n",
       "ID                                                       \n",
       "1        夏天的风  32s  223.3w  https://v.douyin.com/JNDAbTd/\n",
       "2   想见你想见你想见你  37s  199.3w  https://v.douyin.com/JNfUQby/"
      ]
     },
     "execution_count": 6,
     "metadata": {},
     "output_type": "execute_result"
    }
   ],
   "source": [
    "BGM"
   ]
  },
  {
   "cell_type": "code",
   "execution_count": 7,
   "metadata": {},
   "outputs": [],
   "source": [
    "# 获取Vedio数据\n",
    "vedio = pd.read_excel(io,sheet_name= 1,index_col= 'ID')"
   ]
  },
  {
   "cell_type": "code",
   "execution_count": 9,
   "metadata": {},
   "outputs": [
    {
     "data": {
      "text/html": [
       "<div>\n",
       "<style scoped>\n",
       "    .dataframe tbody tr th:only-of-type {\n",
       "        vertical-align: middle;\n",
       "    }\n",
       "\n",
       "    .dataframe tbody tr th {\n",
       "        vertical-align: top;\n",
       "    }\n",
       "\n",
       "    .dataframe thead th {\n",
       "        text-align: right;\n",
       "    }\n",
       "</style>\n",
       "<table border=\"1\" class=\"dataframe\">\n",
       "  <thead>\n",
       "    <tr style=\"text-align: right;\">\n",
       "      <th></th>\n",
       "      <th>地址</th>\n",
       "      <th>时间</th>\n",
       "      <th>点赞</th>\n",
       "      <th>评论量</th>\n",
       "      <th>转发</th>\n",
       "      <th>BGMId</th>\n",
       "      <th>tag1</th>\n",
       "      <th>tag2</th>\n",
       "      <th>tag3</th>\n",
       "      <th>tag4</th>\n",
       "      <th>tag5</th>\n",
       "    </tr>\n",
       "    <tr>\n",
       "      <th>ID</th>\n",
       "      <th></th>\n",
       "      <th></th>\n",
       "      <th></th>\n",
       "      <th></th>\n",
       "      <th></th>\n",
       "      <th></th>\n",
       "      <th></th>\n",
       "      <th></th>\n",
       "      <th></th>\n",
       "      <th></th>\n",
       "      <th></th>\n",
       "    </tr>\n",
       "  </thead>\n",
       "  <tbody>\n",
       "    <tr>\n",
       "      <th>1</th>\n",
       "      <td>https://v.douyin.com/JNAtAT7/</td>\n",
       "      <td>2020.05.11</td>\n",
       "      <td>2107000</td>\n",
       "      <td>116000</td>\n",
       "      <td>62000</td>\n",
       "      <td>1</td>\n",
       "      <td>夏天</td>\n",
       "      <td>校园</td>\n",
       "      <td>晒衣服</td>\n",
       "      <td>宿舍</td>\n",
       "      <td>返校</td>\n",
       "    </tr>\n",
       "    <tr>\n",
       "      <th>2</th>\n",
       "      <td>https://v.douyin.com/JNAqoaC/</td>\n",
       "      <td>2020.05.16</td>\n",
       "      <td>615000</td>\n",
       "      <td>103000</td>\n",
       "      <td>30000</td>\n",
       "      <td>1</td>\n",
       "      <td>女儿</td>\n",
       "      <td>幸福</td>\n",
       "      <td>可爱</td>\n",
       "      <td>父爱</td>\n",
       "      <td>爱情</td>\n",
       "    </tr>\n",
       "    <tr>\n",
       "      <th>3</th>\n",
       "      <td>https://v.douyin.com/JNAaVv8/</td>\n",
       "      <td>2020.05.11</td>\n",
       "      <td>28000</td>\n",
       "      <td>5109</td>\n",
       "      <td>345</td>\n",
       "      <td>1</td>\n",
       "      <td>学习</td>\n",
       "      <td>人生</td>\n",
       "      <td>工作</td>\n",
       "      <td>羡慕</td>\n",
       "      <td>行政大厅</td>\n",
       "    </tr>\n",
       "    <tr>\n",
       "      <th>4</th>\n",
       "      <td>https://v.douyin.com/JNAs4a9/</td>\n",
       "      <td>2020.06.30</td>\n",
       "      <td>20000</td>\n",
       "      <td>1310</td>\n",
       "      <td>165</td>\n",
       "      <td>1</td>\n",
       "      <td>夏天</td>\n",
       "      <td>美女</td>\n",
       "      <td>精致</td>\n",
       "      <td>美景</td>\n",
       "      <td>NaN</td>\n",
       "    </tr>\n",
       "    <tr>\n",
       "      <th>5</th>\n",
       "      <td>https://v.douyin.com/JNA4NAU/</td>\n",
       "      <td>2020.05.02</td>\n",
       "      <td>8289</td>\n",
       "      <td>1660</td>\n",
       "      <td>256</td>\n",
       "      <td>1</td>\n",
       "      <td>美女</td>\n",
       "      <td>美食</td>\n",
       "      <td>广东</td>\n",
       "      <td>夜晚</td>\n",
       "      <td>夏天</td>\n",
       "    </tr>\n",
       "  </tbody>\n",
       "</table>\n",
       "</div>"
      ],
      "text/plain": [
       "                               地址          时间       点赞     评论量     转发  BGMId  \\\n",
       "ID                                                                             \n",
       "1   https://v.douyin.com/JNAtAT7/  2020.05.11  2107000  116000  62000      1   \n",
       "2   https://v.douyin.com/JNAqoaC/  2020.05.16   615000  103000  30000      1   \n",
       "3   https://v.douyin.com/JNAaVv8/  2020.05.11    28000    5109    345      1   \n",
       "4   https://v.douyin.com/JNAs4a9/  2020.06.30    20000    1310    165      1   \n",
       "5   https://v.douyin.com/JNA4NAU/  2020.05.02     8289    1660    256      1   \n",
       "\n",
       "   tag1 tag2 tag3 tag4  tag5  \n",
       "ID                            \n",
       "1    夏天   校园  晒衣服   宿舍    返校  \n",
       "2    女儿   幸福   可爱   父爱    爱情  \n",
       "3    学习   人生   工作   羡慕  行政大厅  \n",
       "4    夏天   美女   精致   美景   NaN  \n",
       "5    美女   美食   广东   夜晚    夏天  "
      ]
     },
     "execution_count": 9,
     "metadata": {},
     "output_type": "execute_result"
    }
   ],
   "source": [
    "vedio.head()"
   ]
  },
  {
   "cell_type": "code",
   "execution_count": null,
   "metadata": {},
   "outputs": [],
   "source": []
  }
 ],
 "metadata": {
  "kernelspec": {
   "display_name": "Python 3",
   "language": "python",
   "name": "python3"
  },
  "language_info": {
   "codemirror_mode": {
    "name": "ipython",
    "version": 3
   },
   "file_extension": ".py",
   "mimetype": "text/x-python",
   "name": "python",
   "nbconvert_exporter": "python",
   "pygments_lexer": "ipython3",
   "version": "3.7.1"
  }
 },
 "nbformat": 4,
 "nbformat_minor": 2
}
